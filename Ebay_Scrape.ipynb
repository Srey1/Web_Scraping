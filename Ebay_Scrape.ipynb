{
 "cells": [
  {
   "cell_type": "code",
   "execution_count": 1,
   "id": "af2beade-3d61-4d30-9bc2-fc0257f1fa17",
   "metadata": {},
   "outputs": [],
   "source": [
    "from bs4 import BeautifulSoup\n",
    "import requests"
   ]
  },
  {
   "cell_type": "markdown",
   "id": "46ef290f-4f6c-4749-b537-4d0ee86c1b54",
   "metadata": {},
   "source": [
    "### Access the Page"
   ]
  },
  {
   "cell_type": "code",
   "execution_count": 7,
   "id": "92961e46-ce38-4b93-9568-11936290cdeb",
   "metadata": {},
   "outputs": [],
   "source": [
    "url = \"https://www.ebay.co.uk/sch/i.html?_from=R40&_trksid=m570.l1313&_nkw=graphic+card&_sacat=0\"\n",
    "page = requests.get(url)\n",
    "soup = BeautifulSoup(page.text, \"html\")"
   ]
  },
  {
   "cell_type": "code",
   "execution_count": 135,
   "id": "f4cd572f-47b4-46fd-9f19-183440e4c02f",
   "metadata": {},
   "outputs": [
    {
     "name": "stdout",
     "output_type": "stream",
     "text": [
      "['£299.99', '£64.99', '£36.01', '£29.74', '£0.99', '£32.95', '£0.99', '£144.00', '£29.74', '£9.89', '£50.99', '£54.99', '£29.99', '£39.99', '£4.95', '£35.00', '£74.00', '£30.00', '£12.00', '£15.99', '£302.20', '£332.20', '£413.50', '£238.23', '£30.00', '£90.00', '£12.99', '£100.00', '£22.39', '£17.99', '£85.00', '£13.99', '£39.00', '£19.99', '£149.68', '£29.99', '£207.74', '£368.99', '£59.08', '£269.07', '£140.00', '£1.20', '£0.99', '£15.00', '£27.00', '£49.00', '£132.90', '£97.18', '£47.99', '£165.00', '£255.00', '£91.00', '£85.00', '£2,100.00', '£75.00', '£50.99', '£75.00', '£50.00', '£60.00', '£260.00', '£10.00', '£50.00', '£20.00', '£69.99', '£20.00', '£19.17', '£40.00', '£160.00', '£44.99', '£16.50', '£29.99', '£265.00', '£289.99', '£469.99', '£38.99', '£0.99', '£85.00', '£44.99', '£50.00', '£406.99', '£441.15']\n"
     ]
    }
   ],
   "source": [
    "item_section = soup.find_all(\"div\", class_ = \"srp-river-results clearfix\")[0]\n",
    "item_wrapper = item_section.find_all(\"div\", class_ = \"s-item__wrapper clearfix\")\n",
    "\n",
    "item_names = [item.find(\"div\", class_ = \"s-item__info clearfix\").a.div.text.strip() for item in item_wrapper]\n",
    "# We must clean the item_names\n",
    "clean_names = []\n",
    "for i in item_names:\n",
    "    if i[0:11] == \"New listing\":\n",
    "        clean_names.append(i[11:])\n",
    "    else:\n",
    "        clean_names.append(i)\n",
    "                           \n",
    "\n",
    "item_price = [item.find(\"span\", class_ = \"s-item__price\").text.strip() for item in item_wrapper]\n",
    "#print(item_names)\n",
    "print(item_price)"
   ]
  },
  {
   "cell_type": "markdown",
   "id": "12888c17-ad2a-4452-b9b2-872583d9c554",
   "metadata": {},
   "source": [
    "### Create Pandas Dataframe"
   ]
  },
  {
   "cell_type": "code",
   "execution_count": 138,
   "id": "26c74da8-627d-4dd7-b15d-2083673402eb",
   "metadata": {},
   "outputs": [
    {
     "data": {
      "text/html": [
       "<div>\n",
       "<style scoped>\n",
       "    .dataframe tbody tr th:only-of-type {\n",
       "        vertical-align: middle;\n",
       "    }\n",
       "\n",
       "    .dataframe tbody tr th {\n",
       "        vertical-align: top;\n",
       "    }\n",
       "\n",
       "    .dataframe thead th {\n",
       "        text-align: right;\n",
       "    }\n",
       "</style>\n",
       "<table border=\"1\" class=\"dataframe\">\n",
       "  <thead>\n",
       "    <tr style=\"text-align: right;\">\n",
       "      <th></th>\n",
       "      <th>Item Name</th>\n",
       "      <th>Price</th>\n",
       "    </tr>\n",
       "  </thead>\n",
       "  <tbody>\n",
       "  </tbody>\n",
       "</table>\n",
       "</div>"
      ],
      "text/plain": [
       "Empty DataFrame\n",
       "Columns: [Item Name, Price]\n",
       "Index: []"
      ]
     },
     "execution_count": 138,
     "metadata": {},
     "output_type": "execute_result"
    }
   ],
   "source": [
    "import pandas as pd\n",
    "df = pd.DataFrame(columns = [\"Item Name\", \"Price\"])\n",
    "df"
   ]
  },
  {
   "cell_type": "code",
   "execution_count": 140,
   "id": "8f412622-9154-42e8-b7bb-8397e5767778",
   "metadata": {},
   "outputs": [],
   "source": [
    "for i in range(0, len(item_names)):\n",
    "    length = len(df)\n",
    "    df.loc[length] = [clean_names[i], item_price[i]]"
   ]
  },
  {
   "cell_type": "code",
   "execution_count": 142,
   "id": "68dede24-f338-4496-bb99-823ceedbbba2",
   "metadata": {},
   "outputs": [
    {
     "data": {
      "text/html": [
       "<div>\n",
       "<style scoped>\n",
       "    .dataframe tbody tr th:only-of-type {\n",
       "        vertical-align: middle;\n",
       "    }\n",
       "\n",
       "    .dataframe tbody tr th {\n",
       "        vertical-align: top;\n",
       "    }\n",
       "\n",
       "    .dataframe thead th {\n",
       "        text-align: right;\n",
       "    }\n",
       "</style>\n",
       "<table border=\"1\" class=\"dataframe\">\n",
       "  <thead>\n",
       "    <tr style=\"text-align: right;\">\n",
       "      <th></th>\n",
       "      <th>Item Name</th>\n",
       "      <th>Price</th>\n",
       "    </tr>\n",
       "  </thead>\n",
       "  <tbody>\n",
       "    <tr>\n",
       "      <th>0</th>\n",
       "      <td>Nvidia Quadro P5000 16GB DDR5 Video Graphics Card</td>\n",
       "      <td>£299.99</td>\n",
       "    </tr>\n",
       "    <tr>\n",
       "      <th>1</th>\n",
       "      <td>SAPPHIRE Radeon RX 580 8GB GDDR5 Graphics Card</td>\n",
       "      <td>£64.99</td>\n",
       "    </tr>\n",
       "    <tr>\n",
       "      <th>2</th>\n",
       "      <td>MSI GeForce GTX 1050Ti AERO ITX 4G OCV1 Graphi...</td>\n",
       "      <td>£36.01</td>\n",
       "    </tr>\n",
       "    <tr>\n",
       "      <th>3</th>\n",
       "      <td>Dell AMD Radeon R7 450 4GB 2xDisplay Ports PCI...</td>\n",
       "      <td>£29.74</td>\n",
       "    </tr>\n",
       "    <tr>\n",
       "      <th>4</th>\n",
       "      <td>Palit NVIDIA GeForce GTX 1050ti GDDR5 4GB Grap...</td>\n",
       "      <td>£0.99</td>\n",
       "    </tr>\n",
       "    <tr>\n",
       "      <th>...</th>\n",
       "      <td>...</td>\n",
       "      <td>...</td>\n",
       "    </tr>\n",
       "    <tr>\n",
       "      <th>76</th>\n",
       "      <td>NVIDIA GTX Titan X 12GB Maxwell Graphics Card ...</td>\n",
       "      <td>£85.00</td>\n",
       "    </tr>\n",
       "    <tr>\n",
       "      <th>77</th>\n",
       "      <td>Nvidia Quadro K1200  4GB GDDR5 Graphics Card 4...</td>\n",
       "      <td>£44.99</td>\n",
       "    </tr>\n",
       "    <tr>\n",
       "      <th>78</th>\n",
       "      <td>SAPPHIRE Nitro AMD Radeon RX 570 8GB GDDR5 Gra...</td>\n",
       "      <td>£50.00</td>\n",
       "    </tr>\n",
       "    <tr>\n",
       "      <th>79</th>\n",
       "      <td>Gigabyte Graphics Card GeForce RTX 4060 EAGLE ...</td>\n",
       "      <td>£406.99</td>\n",
       "    </tr>\n",
       "    <tr>\n",
       "      <th>80</th>\n",
       "      <td>Gigabyte Graphics Card GeForce RTX 4060 AERO O...</td>\n",
       "      <td>£441.15</td>\n",
       "    </tr>\n",
       "  </tbody>\n",
       "</table>\n",
       "<p>81 rows × 2 columns</p>\n",
       "</div>"
      ],
      "text/plain": [
       "                                            Item Name    Price\n",
       "0   Nvidia Quadro P5000 16GB DDR5 Video Graphics Card  £299.99\n",
       "1      SAPPHIRE Radeon RX 580 8GB GDDR5 Graphics Card   £64.99\n",
       "2   MSI GeForce GTX 1050Ti AERO ITX 4G OCV1 Graphi...   £36.01\n",
       "3   Dell AMD Radeon R7 450 4GB 2xDisplay Ports PCI...   £29.74\n",
       "4   Palit NVIDIA GeForce GTX 1050ti GDDR5 4GB Grap...    £0.99\n",
       "..                                                ...      ...\n",
       "76  NVIDIA GTX Titan X 12GB Maxwell Graphics Card ...   £85.00\n",
       "77  Nvidia Quadro K1200  4GB GDDR5 Graphics Card 4...   £44.99\n",
       "78  SAPPHIRE Nitro AMD Radeon RX 570 8GB GDDR5 Gra...   £50.00\n",
       "79  Gigabyte Graphics Card GeForce RTX 4060 EAGLE ...  £406.99\n",
       "80  Gigabyte Graphics Card GeForce RTX 4060 AERO O...  £441.15\n",
       "\n",
       "[81 rows x 2 columns]"
      ]
     },
     "execution_count": 142,
     "metadata": {},
     "output_type": "execute_result"
    }
   ],
   "source": [
    "df"
   ]
  },
  {
   "cell_type": "code",
   "execution_count": 103,
   "id": "81c35372-f318-45c5-b9a4-93308b408329",
   "metadata": {},
   "outputs": [],
   "source": [
    "df.to_csv(r'/Users/sreyas/Desktop/Coding Projects/Webscraping/Ebay_Scrape.csv')"
   ]
  },
  {
   "cell_type": "code",
   "execution_count": 133,
   "id": "d5a09056-ff50-4020-bc9a-105fb5671324",
   "metadata": {},
   "outputs": [
    {
     "data": {
      "text/plain": [
       "'New listing'"
      ]
     },
     "execution_count": 133,
     "metadata": {},
     "output_type": "execute_result"
    }
   ],
   "source": [
    "x = \"New listing\"\n",
    "x[0:11]"
   ]
  },
  {
   "cell_type": "code",
   "execution_count": 148,
   "id": "c2e040b3-2f82-4f18-9798-ce16290807c3",
   "metadata": {},
   "outputs": [
    {
     "data": {
      "text/plain": [
       "['a', 'bye', 'c', 'far', 'hello', 'nice']"
      ]
     },
     "execution_count": 148,
     "metadata": {},
     "output_type": "execute_result"
    }
   ],
   "source": [
    "x = [\"hello\", \"bye\", \"nice\", \"far\", \"c\", \"a\"]\n",
    "sorted(x)"
   ]
  },
  {
   "cell_type": "code",
   "execution_count": null,
   "id": "bee52dbf-5cfd-4571-821b-331b9fa831d7",
   "metadata": {},
   "outputs": [],
   "source": []
  }
 ],
 "metadata": {
  "kernelspec": {
   "display_name": "Python 3 (ipykernel)",
   "language": "python",
   "name": "python3"
  },
  "language_info": {
   "codemirror_mode": {
    "name": "ipython",
    "version": 3
   },
   "file_extension": ".py",
   "mimetype": "text/x-python",
   "name": "python",
   "nbconvert_exporter": "python",
   "pygments_lexer": "ipython3",
   "version": "3.11.7"
  }
 },
 "nbformat": 4,
 "nbformat_minor": 5
}
